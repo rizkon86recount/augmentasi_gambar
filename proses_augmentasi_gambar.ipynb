{
 "cells": [
  {
   "cell_type": "code",
   "execution_count": 18,
   "id": "7d3236c3-98db-4eef-b8c5-c9bef9ca03d0",
   "metadata": {},
   "outputs": [],
   "source": [
    "import os\n",
    "from tensorflow.keras.preprocessing.image import ImageDataGenerator, load_img, img_to_array"
   ]
  },
  {
   "cell_type": "code",
   "execution_count": 20,
   "id": "4d3d531b-bbe7-44cc-a2ac-2dafbbc0c704",
   "metadata": {},
   "outputs": [],
   "source": [
    "# Folder input dan output\n",
    "input_dir = 'augmentasi/blasjamur_images'  # Folder asli tempat gambar disimpan\n",
    "output_dir = 'augmentasi/blasjamur_augmentasi'  # Folder untuk hasil augmentasi\n",
    "os.makedirs(output_dir, exist_ok=True)  # Buat folder jika belum ada"
   ]
  },
  {
   "cell_type": "code",
   "execution_count": 22,
   "id": "555e165d-180d-4eaa-abb5-b74a5e27ca80",
   "metadata": {},
   "outputs": [],
   "source": [
    "# Definisikan augmentasi\n",
    "datagen = ImageDataGenerator(\n",
    "    rotation_range=30,          # Rotasi hingga 30 derajat\n",
    "    width_shift_range=0.2,      # Perpindahan horizontal hingga 20%\n",
    "    height_shift_range=0.2,     # Perpindahan vertikal hingga 20%\n",
    "    shear_range=0.2,            # Distorsi geser\n",
    "    zoom_range=0.2,             # Zoom in/out hingga 20%\n",
    "    horizontal_flip=True,       # Flip horizontal\n",
    "    vertical_flip=True,         # Flip vertikal\n",
    "    fill_mode='nearest'         # Isi piksel kosong\n",
    ")"
   ]
  },
  {
   "cell_type": "code",
   "execution_count": 24,
   "id": "f7793b8e-55a8-4afe-85b8-4d82fa14fe2d",
   "metadata": {},
   "outputs": [
    {
     "name": "stdout",
     "output_type": "stream",
     "text": [
      "Augmentasi selesai. Cek folder output: augmentasi/blasjamur_augmentasi\n"
     ]
    }
   ],
   "source": [
    "# Loop melalui semua gambar di folder input\n",
    "for file_name in os.listdir(input_dir):\n",
    "    if file_name.endswith(('.jpg', '.jpeg', '.png')):  # Cek format gambar\n",
    "        img_path = os.path.join(input_dir, file_name)\n",
    "        img = load_img(img_path)  # Load gambar\n",
    "        x = img_to_array(img)     # Konversi ke array\n",
    "        x = x.reshape((1,) + x.shape)  # Tambahkan batch dimensi\n",
    "\n",
    "        # Simpan augmentasi\n",
    "        i = 0\n",
    "        for batch in datagen.flow(x, batch_size=1, save_to_dir=output_dir,\n",
    "                                  save_prefix='aug', save_format='jpeg'):\n",
    "            i += 1\n",
    "            if i > 10:  # Buat 10 augmentasi per gambar\n",
    "                break\n",
    "\n",
    "print(\"Augmentasi selesai. Cek folder output:\", output_dir)"
   ]
  },
  {
   "cell_type": "code",
   "execution_count": null,
   "id": "c79284ce-305f-4bfc-971d-bb984fd2ce4e",
   "metadata": {},
   "outputs": [],
   "source": []
  }
 ],
 "metadata": {
  "kernelspec": {
   "display_name": "Python [conda env:base] *",
   "language": "python",
   "name": "conda-base-py"
  },
  "language_info": {
   "codemirror_mode": {
    "name": "ipython",
    "version": 3
   },
   "file_extension": ".py",
   "mimetype": "text/x-python",
   "name": "python",
   "nbconvert_exporter": "python",
   "pygments_lexer": "ipython3",
   "version": "3.11.5"
  }
 },
 "nbformat": 4,
 "nbformat_minor": 5
}
